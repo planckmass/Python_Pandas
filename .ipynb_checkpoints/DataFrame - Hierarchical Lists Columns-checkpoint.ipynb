{
 "cells": [
  {
   "cell_type": "code",
   "execution_count": 1,
   "id": "370c4407-2975-43db-9ed5-8d63a8a9108e",
   "metadata": {},
   "outputs": [
    {
     "name": "stdout",
     "output_type": "stream",
     "text": [
      "[['Apple', 'Banana', 'Orange', 'Mango'], [120, 40, 80, 500]]\n",
      "        0    1\n",
      "0   Apple  120\n",
      "1  Banana   40\n",
      "2  Orange   80\n",
      "3   Mango  500\n"
     ]
    }
   ],
   "source": [
    "import pandas as pd\n",
    "\n",
    "# Create list\n",
    "fruits_list = [['Apple', 'Banana', 'Orange', 'Mango'],[120, 40, 80, 500]]\n",
    "print(fruits_list)\n",
    "\n",
    "# Create DataFrame from list\n",
    "fruits_df = pd.DataFrame(fruits_list).transpose()\n",
    "print(fruits_df)"
   ]
  },
  {
   "cell_type": "code",
   "execution_count": null,
   "id": "b31e3a5e-0090-46b6-9e1b-9099f01853e2",
   "metadata": {},
   "outputs": [],
   "source": []
  }
 ],
 "metadata": {
  "kernelspec": {
   "display_name": "Python 3 (ipykernel)",
   "language": "python",
   "name": "python3"
  },
  "language_info": {
   "codemirror_mode": {
    "name": "ipython",
    "version": 3
   },
   "file_extension": ".py",
   "mimetype": "text/x-python",
   "name": "python",
   "nbconvert_exporter": "python",
   "pygments_lexer": "ipython3",
   "version": "3.12.0"
  }
 },
 "nbformat": 4,
 "nbformat_minor": 5
}
