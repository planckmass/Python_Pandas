{
 "cells": [
  {
   "cell_type": "code",
   "execution_count": 1,
   "id": "26f9e2f1-1965-4578-b69c-a56650431218",
   "metadata": {
    "editable": true,
    "slideshow": {
     "slide_type": ""
    },
    "tags": []
   },
   "outputs": [
    {
     "name": "stdout",
     "output_type": "stream",
     "text": [
      "['50', '100', '60', '20']\n",
      "Data type before :  0    object\n",
      "dtype: object\n",
      "Data type after :  0    float64\n",
      "dtype: object\n",
      "       0\n",
      "0   50.0\n",
      "1  100.0\n",
      "2   60.0\n",
      "3   20.0\n"
     ]
    }
   ],
   "source": [
    "import pandas as pd\n",
    "\n",
    "# Create list\n",
    "price_list = ['50', '100', '60', '20']\n",
    "print(price_list)\n",
    "\n",
    "# Create DataFrame from list\n",
    "price_df = pd.DataFrame(price_list)\n",
    "print(\"Data type before : \", price_df.dtypes)\n",
    "\n",
    "# Create DataFrame from list with type change\n",
    "price_df = pd.DataFrame(price_list, dtype='float64')\n",
    "print(\"Data type after : \", price_df.dtypes)\n",
    "print(price_df)"
   ]
  },
  {
   "cell_type": "code",
   "execution_count": null,
   "id": "21f115e9-63eb-4f8e-b8c2-c6d7361e0b1f",
   "metadata": {},
   "outputs": [],
   "source": []
  }
 ],
 "metadata": {
  "kernelspec": {
   "display_name": "Python 3 (ipykernel)",
   "language": "python",
   "name": "python3"
  },
  "language_info": {
   "codemirror_mode": {
    "name": "ipython",
    "version": 3
   },
   "file_extension": ".py",
   "mimetype": "text/x-python",
   "name": "python",
   "nbconvert_exporter": "python",
   "pygments_lexer": "ipython3",
   "version": "3.12.0"
  }
 },
 "nbformat": 4,
 "nbformat_minor": 5
}
