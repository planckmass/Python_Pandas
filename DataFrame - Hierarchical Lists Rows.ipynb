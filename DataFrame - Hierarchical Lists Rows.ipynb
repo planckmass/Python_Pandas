{
 "cells": [
  {
   "cell_type": "code",
   "execution_count": 1,
   "id": "066374b1-1460-4f85-87fc-0de0ecef2563",
   "metadata": {},
   "outputs": [
    {
     "name": "stdout",
     "output_type": "stream",
     "text": [
      "[['Apple', 'Banana', 'Orange', 'Mango'], [120, 40, 80, 500]]\n",
      "       0       1       2      3\n",
      "0  Apple  Banana  Orange  Mango\n",
      "1    120      40      80    500\n"
     ]
    }
   ],
   "source": [
    "import pandas as pd\n",
    "\n",
    "# Create list\n",
    "fruits_list = [['Apple', 'Banana', 'Orange', 'Mango'],[120, 40, 80, 500]]\n",
    "print(fruits_list)\n",
    "\n",
    "# Create DataFrame from list\n",
    "fruits_df = pd.DataFrame(fruits_list)\n",
    "print(fruits_df)"
   ]
  },
  {
   "cell_type": "code",
   "execution_count": null,
   "id": "af3e5ba2-df4b-421b-aff4-5ef8024d0742",
   "metadata": {
    "editable": true,
    "slideshow": {
     "slide_type": ""
    },
    "tags": []
   },
   "outputs": [],
   "source": []
  }
 ],
 "metadata": {
  "kernelspec": {
   "display_name": "Python 3 (ipykernel)",
   "language": "python",
   "name": "python3"
  },
  "language_info": {
   "codemirror_mode": {
    "name": "ipython",
    "version": 3
   },
   "file_extension": ".py",
   "mimetype": "text/x-python",
   "name": "python",
   "nbconvert_exporter": "python",
   "pygments_lexer": "ipython3",
   "version": "3.12.0"
  }
 },
 "nbformat": 4,
 "nbformat_minor": 5
}
