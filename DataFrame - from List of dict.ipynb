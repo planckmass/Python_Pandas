{
 "cells": [
  {
   "cell_type": "code",
   "execution_count": 1,
   "id": "8ec43efb-ad34-4f59-8d79-7963079927ae",
   "metadata": {},
   "outputs": [
    {
     "name": "stdout",
     "output_type": "stream",
     "text": [
      "[{'name': 'Joe', 'age': 20, 'marks': '85.58', 'hobby': 'smimming'}, {'name': 'Nat', 'age': 21, 'marks': '77.21'}, {'name': 'Harry', 'age': 19, 'marks': '91.54'}]\n",
      "    name  age  marks     hobby\n",
      "0    Joe   20  85.58  smimming\n",
      "1    Nat   21  77.21       NaN\n",
      "2  Harry   19  91.54       NaN\n"
     ]
    }
   ],
   "source": [
    "import pandas as pd\n",
    "\n",
    "# Create dict object\n",
    "student_dict = [{\"name\": \"Joe\", \"age\": 20, \"marks\": \"85.58\", \"hobby\": \"smimming\"},\n",
    "                {\"name\": \"Nat\", \"age\": 21, \"marks\": \"77.21\", },\n",
    "                {\"name\": \"Harry\", \"age\": 19, \"marks\": \"91.54\"}]\n",
    "print(student_dict)\n",
    "\n",
    "# Create DataFrame object\n",
    "student_df = pd.DataFrame(student_dict)\n",
    "print(student_df)"
   ]
  },
  {
   "cell_type": "code",
   "execution_count": null,
   "id": "9c270719-39b9-4153-9b32-9da2441f632a",
   "metadata": {
    "editable": true,
    "slideshow": {
     "slide_type": ""
    },
    "tags": []
   },
   "outputs": [],
   "source": []
  }
 ],
 "metadata": {
  "kernelspec": {
   "display_name": "Python 3 (ipykernel)",
   "language": "python",
   "name": "python3"
  },
  "language_info": {
   "codemirror_mode": {
    "name": "ipython",
    "version": 3
   },
   "file_extension": ".py",
   "mimetype": "text/x-python",
   "name": "python",
   "nbconvert_exporter": "python",
   "pygments_lexer": "ipython3",
   "version": "3.12.0"
  }
 },
 "nbformat": 4,
 "nbformat_minor": 5
}
