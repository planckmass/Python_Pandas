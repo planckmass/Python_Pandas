{
 "cells": [
  {
   "cell_type": "code",
   "execution_count": 1,
   "id": "c10da0c7-70b7-4c75-abe2-fe7197d929f2",
   "metadata": {
    "editable": true,
    "slideshow": {
     "slide_type": ""
    },
    "tags": []
   },
   "outputs": [
    {
     "name": "stdout",
     "output_type": "stream",
     "text": [
      "     Name  Price\n",
      "0   Apple    120\n",
      "1  Banana     40\n",
      "2  Orange     80\n",
      "3   Mango    500\n"
     ]
    }
   ],
   "source": [
    "import pandas as pd\n",
    "\n",
    "# Create multiple lists\n",
    "fruits_list = ['Apple', 'Banana', 'Orange', 'Mango']\n",
    "price_list = [120, 40, 80, 500]\n",
    "\n",
    "# Create DataFrame\n",
    "fruits_df = pd.DataFrame(list(zip(fruits_list, price_list )), columns = ['Name', 'Price'])\n",
    "print(fruits_df)"
   ]
  },
  {
   "cell_type": "code",
   "execution_count": 2,
   "id": "3d783b1c-9bd1-48ac-87a4-3d6c9165674f",
   "metadata": {},
   "outputs": [
    {
     "name": "stdout",
     "output_type": "stream",
     "text": [
      "{'Name': ['Apple', 'Banana', 'Orange', 'Mango'], 'Price': [120, 40, 80, 500]}\n",
      "     Name  Price\n",
      "0   Apple    120\n",
      "1  Banana     40\n",
      "2  Orange     80\n",
      "3   Mango    500\n"
     ]
    }
   ],
   "source": [
    "import pandas as pd\n",
    "\n",
    "# Create multiple lists\n",
    "fruits_list = ['Apple', 'Banana', 'Orange', 'Mango']\n",
    "price_list = [120, 40, 80, 500]\n",
    "\n",
    "# Create dict\n",
    "fruits_dict = {'Name': fruits_list,\n",
    "               'Price': price_list}\n",
    "print(fruits_dict)\n",
    "\n",
    "# Create DataFrame from dict\n",
    "fruits_df = pd.DataFrame(fruits_dict)\n",
    "print(fruits_df)"
   ]
  },
  {
   "cell_type": "code",
   "execution_count": null,
   "id": "296a92b8-f470-4838-852c-ed06e1641568",
   "metadata": {},
   "outputs": [],
   "source": []
  }
 ],
 "metadata": {
  "kernelspec": {
   "display_name": "Python 3 (ipykernel)",
   "language": "python",
   "name": "python3"
  },
  "language_info": {
   "codemirror_mode": {
    "name": "ipython",
    "version": 3
   },
   "file_extension": ".py",
   "mimetype": "text/x-python",
   "name": "python",
   "nbconvert_exporter": "python",
   "pygments_lexer": "ipython3",
   "version": "3.12.0"
  }
 },
 "nbformat": 4,
 "nbformat_minor": 5
}
