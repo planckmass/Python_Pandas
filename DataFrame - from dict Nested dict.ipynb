{
 "cells": [
  {
   "cell_type": "code",
   "execution_count": 1,
   "id": "904f18eb-b294-48a6-9f20-eaea33477fb3",
   "metadata": {},
   "outputs": [
    {
     "name": "stdout",
     "output_type": "stream",
     "text": [
      "{'Grade A': {'Class A': {'name': 'Joe', 'marks': 91.56}, 'Class B': {'name': 'Harry', 'marks': 87.9}}, 'Grade B': {'Class A': {'name': 'Sam', 'marks': 70}, 'Class B': {'name': 'Alan', 'marks': 65.48}}}\n",
      "                  name  marks\n",
      "Grade A Class A    Joe  91.56\n",
      "        Class B  Harry  87.90\n",
      "Grade B Class A    Sam  70.00\n",
      "        Class B   Alan  65.48\n"
     ]
    }
   ],
   "source": [
    "import pandas as pd\n",
    "\n",
    "# Create hierarchical dict\n",
    "student_dict = {\"Grade A\": {'Class A': {'name': 'Joe', 'marks': 91.56},\n",
    "                            'Class B': {'name': 'Harry', 'marks': 87.90}},\n",
    "                \"Grade B\": {'Class A': {'name': 'Sam', 'marks': 70},\n",
    "                            'Class B': {'name': 'Alan', 'marks': 65.48}}}\n",
    "print(student_dict)\n",
    "\n",
    "# Create multi-index DataFrame\n",
    "student_df = pd.DataFrame.from_dict({(i, j): student_dict[i][j]\n",
    "                                     for i in student_dict.keys()\n",
    "                                     for j in student_dict[i].keys()},\n",
    "                                    orient='index')\n",
    "print(student_df)"
   ]
  },
  {
   "cell_type": "code",
   "execution_count": null,
   "id": "48ca087c-354b-405a-b20b-6296d26b3b54",
   "metadata": {
    "editable": true,
    "slideshow": {
     "slide_type": ""
    },
    "tags": []
   },
   "outputs": [],
   "source": []
  }
 ],
 "metadata": {
  "kernelspec": {
   "display_name": "Python 3 (ipykernel)",
   "language": "python",
   "name": "python3"
  },
  "language_info": {
   "codemirror_mode": {
    "name": "ipython",
    "version": 3
   },
   "file_extension": ".py",
   "mimetype": "text/x-python",
   "name": "python",
   "nbconvert_exporter": "python",
   "pygments_lexer": "ipython3",
   "version": "3.12.0"
  }
 },
 "nbformat": 4,
 "nbformat_minor": 5
}
