{
 "cells": [
  {
   "cell_type": "code",
   "execution_count": 1,
   "id": "2a451f1f-ece4-4321-83cc-54a3b894d1a0",
   "metadata": {},
   "outputs": [
    {
     "name": "stdout",
     "output_type": "stream",
     "text": [
      "{'Joe': 85.1, 'Nat': 75.83, 'Harry': 69.7}\n",
      "    name  marks\n",
      "0    Joe  85.10\n",
      "1    Nat  75.83\n",
      "2  Harry  69.70\n"
     ]
    }
   ],
   "source": [
    "import pandas as pd\n",
    "\n",
    "# Create dict object\n",
    "student_dict = {\"Joe\": 85.10, \"Nat\": 75.83, \"Harry\": 69.70}\n",
    "print(student_dict)\n",
    "\n",
    "# Create DataFrame from dict\n",
    "student_df = pd.DataFrame(student_dict.items(), columns=[\"name\", \"marks\"])\n",
    "print(student_df)"
   ]
  },
  {
   "cell_type": "code",
   "execution_count": null,
   "id": "10f09d72-47c9-4632-a285-fd98d1bb8c94",
   "metadata": {
    "editable": true,
    "slideshow": {
     "slide_type": ""
    },
    "tags": []
   },
   "outputs": [],
   "source": []
  }
 ],
 "metadata": {
  "kernelspec": {
   "display_name": "Python 3 (ipykernel)",
   "language": "python",
   "name": "python3"
  },
  "language_info": {
   "codemirror_mode": {
    "name": "ipython",
    "version": 3
   },
   "file_extension": ".py",
   "mimetype": "text/x-python",
   "name": "python",
   "nbconvert_exporter": "python",
   "pygments_lexer": "ipython3",
   "version": "3.12.0"
  }
 },
 "nbformat": 4,
 "nbformat_minor": 5
}
