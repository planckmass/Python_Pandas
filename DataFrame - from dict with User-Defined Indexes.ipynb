{
 "cells": [
  {
   "cell_type": "code",
   "execution_count": 1,
   "id": "37a6ea40-7a55-4733-9e18-6a86852d3a76",
   "metadata": {},
   "outputs": [
    {
     "name": "stdout",
     "output_type": "stream",
     "text": [
      "{'name': ['Joe', 'Nat', 'Harry'], 'age': [20, 21, 19], 'marks': [85.1, 77.8, 91.54]}\n",
      "        name  age  marks\n",
      "stud1    Joe   20  85.10\n",
      "stud2    Nat   21  77.80\n",
      "stud3  Harry   19  91.54\n"
     ]
    }
   ],
   "source": [
    "# import pandas library\n",
    "import pandas as pd\n",
    "\n",
    "# Create dict object\n",
    "student_dict = {\"name\": [\"Joe\", \"Nat\", \"Harry\"], \"age\": [20, 21, 19], \"marks\": [85.10, 77.80, 91.54]}\n",
    "print(student_dict)\n",
    "\n",
    "# Create DataFrame from dict\n",
    "student_df = pd.DataFrame(student_dict, index=[\"stud1\", \"stud2\", \"stud3\"])\n",
    "print(student_df)"
   ]
  },
  {
   "cell_type": "code",
   "execution_count": null,
   "id": "dcb3a134-68d3-4da5-90a4-dd52fbd7624d",
   "metadata": {
    "editable": true,
    "slideshow": {
     "slide_type": ""
    },
    "tags": []
   },
   "outputs": [],
   "source": []
  }
 ],
 "metadata": {
  "kernelspec": {
   "display_name": "Python 3 (ipykernel)",
   "language": "python",
   "name": "python3"
  },
  "language_info": {
   "codemirror_mode": {
    "name": "ipython",
    "version": 3
   },
   "file_extension": ".py",
   "mimetype": "text/x-python",
   "name": "python",
   "nbconvert_exporter": "python",
   "pygments_lexer": "ipython3",
   "version": "3.12.0"
  }
 },
 "nbformat": 4,
 "nbformat_minor": 5
}
