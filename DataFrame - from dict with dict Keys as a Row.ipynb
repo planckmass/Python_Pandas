{
 "cells": [
  {
   "cell_type": "code",
   "execution_count": 1,
   "id": "2684ee05-d90d-4d6e-b752-d8ad2f2cdee4",
   "metadata": {},
   "outputs": [
    {
     "name": "stdout",
     "output_type": "stream",
     "text": [
      "{'name': ['Joe', 'Nat', 'Harry'], 'age': [20, 21, 19], 'marks': [85.1, 77.8, 91.54]}\n",
      "      stud1 stud2  stud3\n",
      "name    Joe   Nat  Harry\n",
      "age      20    21     19\n",
      "marks  85.1  77.8  91.54\n"
     ]
    }
   ],
   "source": [
    "import pandas as pd\n",
    "\n",
    "# Create dict object\n",
    "student_dict = {\"name\": [\"Joe\", \"Nat\", \"Harry\"], \"age\": [20, 21, 19], \"marks\": [85.10, 77.80, 91.54]}\n",
    "print(student_dict)\n",
    "\n",
    "# Create DataFrame from dict\n",
    "student_df = pd.DataFrame.from_dict(student_dict, orient=\"index\", columns=[\"stud1\", \"stud2\", \"stud3\"])\n",
    "print(student_df)"
   ]
  },
  {
   "cell_type": "code",
   "execution_count": null,
   "id": "ae3445f4-893a-448f-9c70-acb951c08a9b",
   "metadata": {
    "editable": true,
    "slideshow": {
     "slide_type": ""
    },
    "tags": []
   },
   "outputs": [],
   "source": []
  }
 ],
 "metadata": {
  "kernelspec": {
   "display_name": "Python 3 (ipykernel)",
   "language": "python",
   "name": "python3"
  },
  "language_info": {
   "codemirror_mode": {
    "name": "ipython",
    "version": 3
   },
   "file_extension": ".py",
   "mimetype": "text/x-python",
   "name": "python",
   "nbconvert_exporter": "python",
   "pygments_lexer": "ipython3",
   "version": "3.12.0"
  }
 },
 "nbformat": 4,
 "nbformat_minor": 5
}
