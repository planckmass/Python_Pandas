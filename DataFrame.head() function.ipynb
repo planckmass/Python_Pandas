{
 "cells": [
  {
   "cell_type": "code",
   "execution_count": 1,
   "id": "646e981d-1859-4324-ae36-119b8229c3d1",
   "metadata": {},
   "outputs": [
    {
     "name": "stdout",
     "output_type": "stream",
     "text": [
      "    Name  Age  Marks\n",
      "0    Joe   20  85.10\n",
      "1    Nat   21  77.80\n",
      "2  Harry   19  91.54\n",
      "3   Jack   17  72.00\n",
      "4   Jose   18  87.90\n"
     ]
    }
   ],
   "source": [
    "import pandas as pd\n",
    "\n",
    "student_dict = {'Name': ['Joe', 'Nat', 'Harry','Jack','Jose','Jill','Rose'],\n",
    "                'Age': [20, 21, 19,17,18,19,17],\n",
    "                'Marks': [85.10, 77.80, 91.54,72,87.9,90,72]}\n",
    "\n",
    "# create DataFrame from dict\n",
    "student_df = pd.DataFrame(student_dict)\n",
    "\n",
    "# display first 5 rows\n",
    "topRows = student_df.head()\n",
    "print(topRows)"
   ]
  },
  {
   "cell_type": "code",
   "execution_count": 2,
   "id": "bd58bc4c-253f-4201-9220-07a19dd2b22b",
   "metadata": {},
   "outputs": [
    {
     "name": "stdout",
     "output_type": "stream",
     "text": [
      "    Name  Age  Marks\n",
      "0    Joe   20  85.10\n",
      "1    Nat   21  77.80\n",
      "2  Harry   19  91.54\n"
     ]
    }
   ],
   "source": [
    "# display first 3 rows\n",
    "topRows = student_df.head(3)\n",
    "print(topRows)"
   ]
  },
  {
   "cell_type": "code",
   "execution_count": null,
   "id": "76931abb-14f3-434d-9fde-1b645e13c526",
   "metadata": {},
   "outputs": [],
   "source": []
  }
 ],
 "metadata": {
  "kernelspec": {
   "display_name": "Python 3 (ipykernel)",
   "language": "python",
   "name": "python3"
  },
  "language_info": {
   "codemirror_mode": {
    "name": "ipython",
    "version": 3
   },
   "file_extension": ".py",
   "mimetype": "text/x-python",
   "name": "python",
   "nbconvert_exporter": "python",
   "pygments_lexer": "ipython3",
   "version": "3.12.0"
  }
 },
 "nbformat": 4,
 "nbformat_minor": 5
}
