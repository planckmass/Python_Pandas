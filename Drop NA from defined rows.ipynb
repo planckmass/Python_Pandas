{
 "cells": [
  {
   "cell_type": "code",
   "execution_count": 1,
   "id": "e3f99a22-7a41-4f08-9c75-66e1f353cf30",
   "metadata": {},
   "outputs": [
    {
     "name": "stdout",
     "output_type": "stream",
     "text": [
      "Before dropping column NA: \n",
      "     name  age  marks\n",
      "0    Joe  NaN  85.10\n",
      "1    Sam  NaN    NaN\n",
      "2  Harry  NaN  91.54\n",
      "\n",
      "After dropping column NA: \n",
      "     name  marks\n",
      "0    Joe  85.10\n",
      "1    Sam    NaN\n",
      "2  Harry  91.54\n"
     ]
    }
   ],
   "source": [
    "import pandas as pd\n",
    "import numpy as np\n",
    "\n",
    "student_dict = {\"name\": [\"Joe\", \"Sam\", \"Harry\"], \"age\": [np.nan, np.nan, np.nan], \"marks\": [85.10, np.nan, 91.54]}\n",
    "\n",
    "# Create DataFrame from dict\n",
    "student_df = pd.DataFrame(student_dict)\n",
    "print(\"Before dropping column NA: \\n\", student_df)\n",
    "\n",
    "# drop marks column with NaN\n",
    "student_df = student_df.dropna(axis='columns', subset=[0, 2])\n",
    "\n",
    "print(\"\\nAfter dropping column NA: \\n\", student_df)"
   ]
  },
  {
   "cell_type": "code",
   "execution_count": null,
   "id": "be6382d4-2362-4bc4-a640-07f2ba2d424e",
   "metadata": {},
   "outputs": [],
   "source": []
  }
 ],
 "metadata": {
  "kernelspec": {
   "display_name": "Python 3 (ipykernel)",
   "language": "python",
   "name": "python3"
  },
  "language_info": {
   "codemirror_mode": {
    "name": "ipython",
    "version": 3
   },
   "file_extension": ".py",
   "mimetype": "text/x-python",
   "name": "python",
   "nbconvert_exporter": "python",
   "pygments_lexer": "ipython3",
   "version": "3.12.0"
  }
 },
 "nbformat": 4,
 "nbformat_minor": 5
}
