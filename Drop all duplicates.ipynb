{
 "cells": [
  {
   "cell_type": "code",
   "execution_count": 1,
   "id": "50df97b2-a58e-4c76-b8a1-6e72654b3b5d",
   "metadata": {},
   "outputs": [
    {
     "name": "stdout",
     "output_type": "stream",
     "text": [
      "Before dropping duplicates: \n",
      "     name  age  marks\n",
      "0    Joe   20  85.10\n",
      "1    Nat   21  77.80\n",
      "2  Harry   19  91.54\n",
      "3    Nat   21  77.80\n",
      "\n",
      "After dropping column: \n",
      "     name  age  marks\n",
      "0    Joe   20  85.10\n",
      "2  Harry   19  91.54\n"
     ]
    }
   ],
   "source": [
    "import pandas as pd\n",
    "\n",
    "student_dict = {\"name\": [\"Joe\", \"Nat\", \"Harry\", \"Nat\"], \"age\": [20, 21, 19, 21], \"marks\": [85.10, 77.80, 91.54, 77.80]}\n",
    "\n",
    "# Create DataFrame from dict\n",
    "student_df = pd.DataFrame(student_dict)\n",
    "print(\"Before dropping duplicates: \\n\", student_df)\n",
    "\n",
    "# drop all duplicate rows\n",
    "student_df = student_df.drop_duplicates(keep=False)\n",
    "\n",
    "print(\"\\nAfter dropping column: \\n\", student_df)"
   ]
  },
  {
   "cell_type": "code",
   "execution_count": null,
   "id": "c475cf6e-c4a3-4ebc-ab18-2d6b91c615ee",
   "metadata": {},
   "outputs": [],
   "source": []
  }
 ],
 "metadata": {
  "kernelspec": {
   "display_name": "Python 3 (ipykernel)",
   "language": "python",
   "name": "python3"
  },
  "language_info": {
   "codemirror_mode": {
    "name": "ipython",
    "version": 3
   },
   "file_extension": ".py",
   "mimetype": "text/x-python",
   "name": "python",
   "nbconvert_exporter": "python",
   "pygments_lexer": "ipython3",
   "version": "3.12.0"
  }
 },
 "nbformat": 4,
 "nbformat_minor": 5
}
