{
 "cells": [
  {
   "cell_type": "code",
   "execution_count": 1,
   "id": "267f94b0-af84-455c-b42b-e73da16a7af1",
   "metadata": {},
   "outputs": [
    {
     "name": "stdout",
     "output_type": "stream",
     "text": [
      "['name' 'age' 'marks']\n",
      "['name' 'age']\n"
     ]
    }
   ],
   "source": [
    "import pandas as pd\n",
    "\n",
    "student_dict = {\"name\": [\"Joe\", \"Nat\"], \"age\": [20, 21], \"marks\": [85.10, 77.80]}\n",
    "\n",
    "# Create DataFrame from dict\n",
    "student_df = pd.DataFrame(student_dict)\n",
    "print(student_df.columns.values)\n",
    "\n",
    "# find position of the last column and drop\n",
    "pos = len(student_df.columns) - 1\n",
    "student_df = student_df.drop(columns=student_df.columns[pos])\n",
    "print(student_df.columns.values)\n",
    "\n",
    "# delete column present at index 1\n",
    "# student_df.drop(columns = student_df.columns[1])"
   ]
  },
  {
   "cell_type": "code",
   "execution_count": null,
   "id": "e701889b-c634-4dbc-b929-89012efaef8f",
   "metadata": {},
   "outputs": [],
   "source": []
  }
 ],
 "metadata": {
  "kernelspec": {
   "display_name": "Python 3 (ipykernel)",
   "language": "python",
   "name": "python3"
  },
  "language_info": {
   "codemirror_mode": {
    "name": "ipython",
    "version": 3
   },
   "file_extension": ".py",
   "mimetype": "text/x-python",
   "name": "python",
   "nbconvert_exporter": "python",
   "pygments_lexer": "ipython3",
   "version": "3.12.0"
  }
 },
 "nbformat": 4,
 "nbformat_minor": 5
}
