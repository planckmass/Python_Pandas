{
 "cells": [
  {
   "cell_type": "code",
   "execution_count": 1,
   "id": "c5a338a0-caf8-4a43-bc64-228e6cc519cd",
   "metadata": {},
   "outputs": [
    {
     "name": "stdout",
     "output_type": "stream",
     "text": [
      "Before dropping column: \n",
      "   Class A        Class B       \n",
      "     Name  Marks    Name  Marks\n",
      "0     Joe  85.10     Nat  77.80\n",
      "1   Harry  91.54     Sam  68.55\n",
      "\n",
      "After dropping column: \n",
      "   Class A Class B\n",
      "     Name    Name\n",
      "0     Joe     Nat\n",
      "1   Harry     Sam\n"
     ]
    }
   ],
   "source": [
    "import pandas as pd\n",
    "\n",
    "# create column header\n",
    "col = pd.MultiIndex.from_arrays([['Class A', 'Class A', 'Class B', 'Class B'],\n",
    "                                 ['Name', 'Marks', 'Name', 'Marks']])\n",
    "# create dataframe from 2darray\n",
    "student_df = pd.DataFrame([['Joe', '85.10', 'Nat', '77.80'], ['Harry', '91.54', 'Sam', '68.55']], columns=col)\n",
    "print(\"Before dropping column: \\n\", student_df)\n",
    "\n",
    "# drop column\n",
    "student_df = student_df.drop(columns=['Marks'], level=1)\n",
    "print(\"\\nAfter dropping column: \\n\", student_df)"
   ]
  },
  {
   "cell_type": "code",
   "execution_count": null,
   "id": "e1f67f30-e4e0-4a88-a1d0-1bc912a8ad48",
   "metadata": {},
   "outputs": [],
   "source": []
  }
 ],
 "metadata": {
  "kernelspec": {
   "display_name": "Python 3 (ipykernel)",
   "language": "python",
   "name": "python3"
  },
  "language_info": {
   "codemirror_mode": {
    "name": "ipython",
    "version": 3
   },
   "file_extension": ".py",
   "mimetype": "text/x-python",
   "name": "python",
   "nbconvert_exporter": "python",
   "pygments_lexer": "ipython3",
   "version": "3.12.0"
  }
 },
 "nbformat": 4,
 "nbformat_minor": 5
}
