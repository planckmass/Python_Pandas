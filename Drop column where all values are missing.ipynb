{
 "cells": [
  {
   "cell_type": "code",
   "execution_count": 1,
   "id": "290b21a3-c9bd-4a69-8377-6e2d76369ba5",
   "metadata": {},
   "outputs": [
    {
     "name": "stdout",
     "output_type": "stream",
     "text": [
      "Before dropping column NA: \n",
      "     name  age  marks\n",
      "0    Joe  NaN  85.10\n",
      "1    Sam  NaN    NaN\n",
      "2    NaN  NaN    NaN\n",
      "3  Harry  NaN  91.54\n",
      "\n",
      "After dropping column NA: \n",
      "     name  marks\n",
      "0    Joe  85.10\n",
      "1    Sam    NaN\n",
      "2    NaN    NaN\n",
      "3  Harry  91.54\n"
     ]
    }
   ],
   "source": [
    "import pandas as pd\n",
    "import numpy as np\n",
    "\n",
    "student_dict = {\"name\": [\"Joe\", \"Sam\", np.nan, \"Harry\"], \"age\": [np.nan, np.nan, np.nan, np.nan],\n",
    "                \"marks\": [85.10, np.nan, np.nan, 91.54]}\n",
    "\n",
    "# Create DataFrame from dict\n",
    "student_df = pd.DataFrame(student_dict)\n",
    "print(\"Before dropping column NA: \\n\", student_df)\n",
    "\n",
    "# drop column with NaN\n",
    "student_df = student_df.dropna(axis='columns', how='all')\n",
    "\n",
    "print(\"\\nAfter dropping column NA: \\n\", student_df)"
   ]
  },
  {
   "cell_type": "code",
   "execution_count": null,
   "id": "029e84cf-963a-41eb-952c-95320f8acb32",
   "metadata": {},
   "outputs": [],
   "source": []
  }
 ],
 "metadata": {
  "kernelspec": {
   "display_name": "Python 3 (ipykernel)",
   "language": "python",
   "name": "python3"
  },
  "language_info": {
   "codemirror_mode": {
    "name": "ipython",
    "version": 3
   },
   "file_extension": ".py",
   "mimetype": "text/x-python",
   "name": "python",
   "nbconvert_exporter": "python",
   "pygments_lexer": "ipython3",
   "version": "3.12.0"
  }
 },
 "nbformat": 4,
 "nbformat_minor": 5
}
