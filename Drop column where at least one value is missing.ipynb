{
 "cells": [
  {
   "cell_type": "code",
   "execution_count": 1,
   "id": "17c0962e-2821-46f2-9747-e5c33715e1b7",
   "metadata": {},
   "outputs": [
    {
     "name": "stdout",
     "output_type": "stream",
     "text": [
      "Before dropping column NA: \n",
      "     name  age  marks\n",
      "0    Joe   20  85.10\n",
      "1    Sam   21    NaN\n",
      "2  Harry   19  91.54\n",
      "\n",
      "After dropping column NA: \n",
      "     name  age\n",
      "0    Joe   20\n",
      "1    Sam   21\n",
      "2  Harry   19\n"
     ]
    }
   ],
   "source": [
    "import pandas as pd\n",
    "import numpy as np\n",
    "\n",
    "student_dict = {\"name\": [\"Joe\", \"Sam\", \"Harry\"], \"age\": [20, 21, 19], \"marks\": [85.10, np.nan, 91.54]}\n",
    "\n",
    "# Create DataFrame from dict\n",
    "student_df = pd.DataFrame(student_dict)\n",
    "print(\"Before dropping column NA: \\n\", student_df)\n",
    "\n",
    "# drop column with NaN\n",
    "student_df = student_df.dropna(axis='columns')\n",
    "\n",
    "print(\"\\nAfter dropping column NA: \\n\", student_df)"
   ]
  },
  {
   "cell_type": "code",
   "execution_count": null,
   "id": "09cdb90c-150f-440f-98d6-8210eacf6f89",
   "metadata": {},
   "outputs": [],
   "source": []
  }
 ],
 "metadata": {
  "kernelspec": {
   "display_name": "Python 3 (ipykernel)",
   "language": "python",
   "name": "python3"
  },
  "language_info": {
   "codemirror_mode": {
    "name": "ipython",
    "version": 3
   },
   "file_extension": ".py",
   "mimetype": "text/x-python",
   "name": "python",
   "nbconvert_exporter": "python",
   "pygments_lexer": "ipython3",
   "version": "3.12.0"
  }
 },
 "nbformat": 4,
 "nbformat_minor": 5
}
