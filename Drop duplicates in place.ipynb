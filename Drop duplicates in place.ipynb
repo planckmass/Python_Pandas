{
 "cells": [
  {
   "cell_type": "code",
   "execution_count": 1,
   "id": "75a90085-a723-4829-8773-0df463c45661",
   "metadata": {},
   "outputs": [
    {
     "name": "stdout",
     "output_type": "stream",
     "text": [
      "Before dropping duplicates: \n",
      "     name  age  marks\n",
      "0    Joe   20  85.10\n",
      "1    Nat   21  77.80\n",
      "2  Harry   19  91.54\n",
      "3    Joe   20  85.10\n",
      "4    Nat   21  77.80\n",
      "\n",
      "After dropping column: \n",
      "     name  age  marks\n",
      "0    Joe   20  85.10\n",
      "1    Nat   21  77.80\n",
      "2  Harry   19  91.54\n"
     ]
    }
   ],
   "source": [
    "import pandas as pd\n",
    "\n",
    "student_dict = {\"name\": [\"Joe\", \"Nat\", \"Harry\", \"Joe\", \"Nat\"], \"age\": [20, 21, 19, 20, 21],\n",
    "                \"marks\": [85.10, 77.80, 91.54, 85.10, 77.80]}\n",
    "\n",
    "# Create DataFrame from dict\n",
    "student_df = pd.DataFrame(student_dict)\n",
    "print(\"Before dropping duplicates: \\n\", student_df)\n",
    "\n",
    "# drop duplicate rows\n",
    "student_df.drop_duplicates(inplace=True)\n",
    "\n",
    "print(\"\\nAfter dropping column: \\n\", student_df)"
   ]
  },
  {
   "cell_type": "code",
   "execution_count": null,
   "id": "6019e814-66aa-46a8-8af1-02e6b1f3c827",
   "metadata": {},
   "outputs": [],
   "source": []
  }
 ],
 "metadata": {
  "kernelspec": {
   "display_name": "Python 3 (ipykernel)",
   "language": "python",
   "name": "python3"
  },
  "language_info": {
   "codemirror_mode": {
    "name": "ipython",
    "version": 3
   },
   "file_extension": ".py",
   "mimetype": "text/x-python",
   "name": "python",
   "nbconvert_exporter": "python",
   "pygments_lexer": "ipython3",
   "version": "3.12.0"
  }
 },
 "nbformat": 4,
 "nbformat_minor": 5
}
