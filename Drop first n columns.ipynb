{
 "cells": [
  {
   "cell_type": "code",
   "execution_count": 1,
   "id": "57975f43-79ae-4e6a-b5d2-b2a914f5e9fe",
   "metadata": {},
   "outputs": [
    {
     "name": "stdout",
     "output_type": "stream",
     "text": [
      "Before dropping: \n",
      " ['name' 'age' 'marks' 'class' 'city']\n",
      "\n",
      "After dropping: \n",
      " ['marks' 'class' 'city']\n"
     ]
    }
   ],
   "source": [
    "import pandas as pd\n",
    "\n",
    "student_dict = {\"name\": [\"Joe\", \"Nat\"], \"age\": [20, 21], \"marks\": [85.10, 77.80], \"class\": [\"A\", \"B\"],\n",
    "                \"city\": [\"London\", \"Zurich\"]}\n",
    "\n",
    "# Create DataFrame from dict\n",
    "student_df = pd.DataFrame(student_dict)\n",
    "print(\"Before dropping: \\n\", student_df.columns.values)\n",
    "\n",
    "# drop column 1 and 2\n",
    "student_df = student_df.drop(columns=student_df.iloc[:, range(2)])\n",
    "\n",
    "# print only columns\n",
    "print(\"\\nAfter dropping: \\n\", student_df.columns.values)"
   ]
  },
  {
   "cell_type": "code",
   "execution_count": null,
   "id": "649ec174-a928-427e-91bd-84359d132d62",
   "metadata": {},
   "outputs": [],
   "source": []
  }
 ],
 "metadata": {
  "kernelspec": {
   "display_name": "Python 3 (ipykernel)",
   "language": "python",
   "name": "python3"
  },
  "language_info": {
   "codemirror_mode": {
    "name": "ipython",
    "version": 3
   },
   "file_extension": ".py",
   "mimetype": "text/x-python",
   "name": "python",
   "nbconvert_exporter": "python",
   "pygments_lexer": "ipython3",
   "version": "3.12.0"
  }
 },
 "nbformat": 4,
 "nbformat_minor": 5
}
