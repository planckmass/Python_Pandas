{
 "cells": [
  {
   "cell_type": "code",
   "execution_count": 1,
   "id": "0b5f1861-6801-4656-99fe-338793225323",
   "metadata": {},
   "outputs": [
    {
     "name": "stdout",
     "output_type": "stream",
     "text": [
      "['name' 'age' 'marks']\n",
      "['name']\n"
     ]
    }
   ],
   "source": [
    "import pandas as pd\n",
    "\n",
    "student_dict = {\"name\": [\"Joe\", \"Nat\"], \"age\": [20, 21], \"marks\": [85.10, 77.80]}\n",
    "\n",
    "student_df = pd.DataFrame(student_dict)\n",
    "print(student_df.columns.values)\n",
    "\n",
    "# drop 2 columns at a time\n",
    "student_df = student_df.drop(columns=['age', 'marks'])\n",
    "\n",
    "print(student_df.columns.values)"
   ]
  },
  {
   "cell_type": "code",
   "execution_count": null,
   "id": "90ab3cbc-8e39-4849-ae24-301d9c659a77",
   "metadata": {},
   "outputs": [],
   "source": []
  }
 ],
 "metadata": {
  "kernelspec": {
   "display_name": "Python 3 (ipykernel)",
   "language": "python",
   "name": "python3"
  },
  "language_info": {
   "codemirror_mode": {
    "name": "ipython",
    "version": 3
   },
   "file_extension": ".py",
   "mimetype": "text/x-python",
   "name": "python",
   "nbconvert_exporter": "python",
   "pygments_lexer": "ipython3",
   "version": "3.12.0"
  }
 },
 "nbformat": 4,
 "nbformat_minor": 5
}
