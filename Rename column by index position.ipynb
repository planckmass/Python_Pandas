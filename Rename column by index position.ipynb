{
 "cells": [
  {
   "cell_type": "code",
   "execution_count": 1,
   "id": "c2a6b289-208f-46b2-bd83-a479c4dcca1d",
   "metadata": {},
   "outputs": [
    {
     "name": "stdout",
     "output_type": "stream",
     "text": [
      "df.columns[2]: marks\n",
      "df.columns[2]: percentage\n"
     ]
    }
   ],
   "source": [
    "import pandas as pd\n",
    "\n",
    "student_dict = {\"name\": [\"Joe\", \"Nat\", \"Harry\"], \"age\": [20, 21, 19], \"marks\": [85.10, 77.80, 91.54]}\n",
    "\n",
    "student_df = pd.DataFrame(student_dict)\n",
    "print(\"df.columns[2]:\", student_df.columns[2])\n",
    "\n",
    "# rename column present at index 2\n",
    "student_df.rename(columns={student_df.columns[2]: 'percentage'}, inplace=True)\n",
    "print(\"df.columns[2]:\", student_df.columns[2])"
   ]
  },
  {
   "cell_type": "code",
   "execution_count": null,
   "id": "497a8109-e7f6-43ca-997c-8d5408bc32d6",
   "metadata": {},
   "outputs": [],
   "source": []
  }
 ],
 "metadata": {
  "kernelspec": {
   "display_name": "Python 3 (ipykernel)",
   "language": "python",
   "name": "python3"
  },
  "language_info": {
   "codemirror_mode": {
    "name": "ipython",
    "version": 3
   },
   "file_extension": ".py",
   "mimetype": "text/x-python",
   "name": "python",
   "nbconvert_exporter": "python",
   "pygments_lexer": "ipython3",
   "version": "3.12.0"
  }
 },
 "nbformat": 4,
 "nbformat_minor": 5
}
