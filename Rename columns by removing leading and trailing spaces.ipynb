{
 "cells": [
  {
   "cell_type": "code",
   "execution_count": 1,
   "id": "361278f5-004a-4b08-8e4e-d8564058f6f5",
   "metadata": {},
   "outputs": [
    {
     "name": "stdout",
     "output_type": "stream",
     "text": [
      "[' name ' ' age   ' 'marks  ']\n",
      "['name' 'age' 'marks']\n"
     ]
    }
   ],
   "source": [
    "import pandas as pd\n",
    "\n",
    "student_dict = {\" name \": [\"Joe\", \"Nat\", \"Harry\"], \" age   \": [20, 21, 19], \"marks  \": [85.10, 77.80, 91.54]}\n",
    "\n",
    "student_df = pd.DataFrame(student_dict)\n",
    "print(student_df.columns.values)\n",
    "# output [' name ' ' age   ' 'marks  ']\n",
    "\n",
    "# remove leading and trailing space from column names\n",
    "student_df.rename(lambda x: x.strip(), axis='columns', inplace=True)\n",
    "print(student_df.columns.values)\n",
    "# Output ['name' 'age' 'marks']"
   ]
  },
  {
   "cell_type": "code",
   "execution_count": null,
   "id": "efb65bb1-def3-4adf-9e8d-aa3f99face15",
   "metadata": {},
   "outputs": [],
   "source": []
  }
 ],
 "metadata": {
  "kernelspec": {
   "display_name": "Python 3 (ipykernel)",
   "language": "python",
   "name": "python3"
  },
  "language_info": {
   "codemirror_mode": {
    "name": "ipython",
    "version": 3
   },
   "file_extension": ".py",
   "mimetype": "text/x-python",
   "name": "python",
   "nbconvert_exporter": "python",
   "pygments_lexer": "ipython3",
   "version": "3.12.0"
  }
 },
 "nbformat": 4,
 "nbformat_minor": 5
}
