{
 "cells": [
  {
   "cell_type": "code",
   "execution_count": 1,
   "id": "49290b60-394a-409e-866d-a53544cafdd8",
   "metadata": {},
   "outputs": [
    {
     "name": "stdout",
     "output_type": "stream",
     "text": [
      "  Class A        Class B       \n",
      "     Name  Marks    Name  Marks\n",
      "0     Joe  85.10     Nat  77.80\n",
      "1   Harry  91.54     Sam  68.55\n",
      "  Class A        Class B       \n",
      "     NAME  MARKS    NAME  MARKS\n",
      "0     Joe  85.10     Nat  77.80\n",
      "1   Harry  91.54     Sam  68.55\n"
     ]
    }
   ],
   "source": [
    "import pandas as pd\n",
    "\n",
    "# create column header\n",
    "col = pd.MultiIndex.from_arrays([['Class A', 'Class A', 'Class B', 'Class B'],\n",
    "                                 ['Name', 'Marks', 'Name', 'Marks']])\n",
    "# create dataframe from 2darray\n",
    "student_df = pd.DataFrame([['Joe', '85.10', 'Nat', '77.80'], ['Harry', '91.54', 'Sam', '68.55']], columns=col)\n",
    "print(student_df)\n",
    "\n",
    "# rename column label in level 1\n",
    "student_df = student_df.rename(columns=str.upper, level=1)\n",
    "print(student_df)"
   ]
  },
  {
   "cell_type": "code",
   "execution_count": null,
   "id": "a8851cab-5c42-4e33-b1d9-8de8a377d15b",
   "metadata": {},
   "outputs": [],
   "source": []
  }
 ],
 "metadata": {
  "kernelspec": {
   "display_name": "Python 3 (ipykernel)",
   "language": "python",
   "name": "python3"
  },
  "language_info": {
   "codemirror_mode": {
    "name": "ipython",
    "version": 3
   },
   "file_extension": ".py",
   "mimetype": "text/x-python",
   "name": "python",
   "nbconvert_exporter": "python",
   "pygments_lexer": "ipython3",
   "version": "3.12.0"
  }
 },
 "nbformat": 4,
 "nbformat_minor": 5
}
