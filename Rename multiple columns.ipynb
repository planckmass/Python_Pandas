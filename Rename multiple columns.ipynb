{
 "cells": [
  {
   "cell_type": "code",
   "execution_count": 1,
   "id": "feb222a9-3835-4583-8060-cbdb42c7f20a",
   "metadata": {},
   "outputs": [
    {
     "name": "stdout",
     "output_type": "stream",
     "text": [
      "Columns before renaming\n",
      " ['name' 'age' 'marks']\n",
      "\n",
      "Columns after renaming\n",
      " ['a' 'b' 'c']\n"
     ]
    }
   ],
   "source": [
    "import pandas as pd\n",
    "\n",
    "student_dict = {\"name\": [\"Joe\", \"Nat\", \"Harry\"], \"age\": [20, 21, 19], \"marks\": [85.10, 77.80, 91.54]}\n",
    "\n",
    "student_df = pd.DataFrame(student_dict)\n",
    "# column names before rename\n",
    "print(\"Columns before renaming\\n\", student_df.columns.values)\n",
    "\n",
    "# rename all columns using mapping convention\n",
    "student_df = student_df.rename(columns={'name': \"a\", 'age': \"b\", 'marks': \"c\"})\n",
    "# after rename\n",
    "print(\"\\nColumns after renaming\\n\", student_df.columns.values)"
   ]
  },
  {
   "cell_type": "code",
   "execution_count": null,
   "id": "ea4760bb-accf-4634-a16a-1ef9acfaf8c2",
   "metadata": {},
   "outputs": [],
   "source": []
  }
 ],
 "metadata": {
  "kernelspec": {
   "display_name": "Python 3 (ipykernel)",
   "language": "python",
   "name": "python3"
  },
  "language_info": {
   "codemirror_mode": {
    "name": "ipython",
    "version": 3
   },
   "file_extension": ".py",
   "mimetype": "text/x-python",
   "name": "python",
   "nbconvert_exporter": "python",
   "pygments_lexer": "ipython3",
   "version": "3.12.0"
  }
 },
 "nbformat": 4,
 "nbformat_minor": 5
}
