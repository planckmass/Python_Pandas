{
 "cells": [
  {
   "cell_type": "code",
   "execution_count": 1,
   "id": "19893402-e15d-4670-883f-7ba3ec83a305",
   "metadata": {},
   "outputs": [
    {
     "name": "stdout",
     "output_type": "stream",
     "text": [
      "\n",
      "After reset index: \n",
      "                       Name      Marks\n",
      "                   Surname Percentage\n",
      "Standard   Class                     \n",
      "Standard 1 Class A     Joe      91.56\n",
      "           Class B     Nat      87.90\n",
      "Standard 2 Class A   Harry      70.10\n",
      "           Class B     Sam      65.48\n",
      "         New_Header    Name      Marks\n",
      "           Standard Surname Percentage\n",
      "Class                                 \n",
      "Class A  Standard 1     Joe      91.56\n",
      "Class B  Standard 1     Nat      87.90\n",
      "Class A  Standard 2   Harry      70.10\n",
      "Class B  Standard 2     Sam      65.48\n"
     ]
    }
   ],
   "source": [
    "import pandas as pd\n",
    "\n",
    "index = pd.MultiIndex.from_tuples([('Standard 1', 'Class A'),\n",
    "                                   ('Standard 1', 'Class B'),\n",
    "                                   ('Standard 2', 'Class A'),\n",
    "                                   ('Standard 2', 'Class B')],\n",
    "                                  names=['Standard', 'Class'])\n",
    "columns = pd.MultiIndex.from_tuples([('Name', 'Surname'),\n",
    "                                     ('Marks', 'Percentage')])\n",
    "\n",
    "# create multi-index dataframe\n",
    "student_df = pd.DataFrame([('Joe', 91.56),\n",
    "                           ('Nat', 87.90),\n",
    "                           ('Harry', 70.10),\n",
    "                           ('Sam', 65.48)],\n",
    "                          index=index, columns=columns)\n",
    "print(\"\\nAfter reset index: \\n\", student_df)\n",
    "\n",
    "student_df = pd.DataFrame([('Joe', 91.56),\n",
    "                           ('Nat', 87.90),\n",
    "                           ('Harry', 70.10),\n",
    "                           ('Sam', 65.48)],\n",
    "                          index=index, columns=columns)\n",
    "\n",
    "# reset multi-level index\n",
    "student_df = student_df.reset_index(level='Standard', col_level=1, col_fill='New_Header')\n",
    "print(student_df)"
   ]
  },
  {
   "cell_type": "code",
   "execution_count": null,
   "id": "b35aafe8-be12-4ddb-9af4-318540737e8f",
   "metadata": {},
   "outputs": [],
   "source": []
  }
 ],
 "metadata": {
  "kernelspec": {
   "display_name": "Python 3 (ipykernel)",
   "language": "python",
   "name": "python3"
  },
  "language_info": {
   "codemirror_mode": {
    "name": "ipython",
    "version": 3
   },
   "file_extension": ".py",
   "mimetype": "text/x-python",
   "name": "python",
   "nbconvert_exporter": "python",
   "pygments_lexer": "ipython3",
   "version": "3.12.0"
  }
 },
 "nbformat": 4,
 "nbformat_minor": 5
}
