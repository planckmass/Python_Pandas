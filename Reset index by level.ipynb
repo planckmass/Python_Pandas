{
 "cells": [
  {
   "cell_type": "code",
   "execution_count": 2,
   "id": "f7835130-bee0-42f6-99f4-31ada6d27ae1",
   "metadata": {},
   "outputs": [
    {
     "name": "stdout",
     "output_type": "stream",
     "text": [
      "\n",
      "After reset index: \n",
      "                       Name      Marks\n",
      "                   Surname Percentage\n",
      "Standard   Class                     \n",
      "Standard 1 Class A     Joe      91.56\n",
      "           Class B     Nat      87.90\n",
      "Standard 2 Class A   Harry      70.10\n",
      "           Class B     Sam      65.48\n",
      "           Standard    Name      Marks\n",
      "                    Surname Percentage\n",
      "Class                                 \n",
      "Class A  Standard 1     Joe      91.56\n",
      "Class B  Standard 1     Nat      87.90\n",
      "Class A  Standard 2   Harry      70.10\n",
      "Class B  Standard 2     Sam      65.48\n",
      "     Class    Standard    Name      Marks\n",
      "                       Surname Percentage\n",
      "0  Class A  Standard 1     Joe      91.56\n",
      "1  Class B  Standard 1     Nat      87.90\n",
      "2  Class A  Standard 2   Harry      70.10\n",
      "3  Class B  Standard 2     Sam      65.48\n"
     ]
    }
   ],
   "source": [
    "import pandas as pd\n",
    "\n",
    "index = pd.MultiIndex.from_tuples([('Standard 1', 'Class A'),\n",
    "                                   ('Standard 1', 'Class B'),\n",
    "                                   ('Standard 2', 'Class A'),\n",
    "                                   ('Standard 2', 'Class B')],\n",
    "                                  names=['Standard', 'Class'])\n",
    "columns = pd.MultiIndex.from_tuples([('Name', 'Surname'),\n",
    "                                     ('Marks', 'Percentage')])\n",
    "\n",
    "# create multi-index dataframe\n",
    "student_df = pd.DataFrame([('Joe', 91.56),\n",
    "                           ('Nat', 87.90),\n",
    "                           ('Harry', 70.10),\n",
    "                           ('Sam', 65.48)],\n",
    "                          index=index, columns=columns)\n",
    "print(\"\\nAfter reset index: \\n\", student_df)\n",
    "\n",
    "student_df = pd.DataFrame([('Joe', 91.56),\n",
    "                           ('Nat', 87.90),\n",
    "                           ('Harry', 70.10),\n",
    "                           ('Sam', 65.48)],\n",
    "                          index=index, columns=columns)\n",
    "\n",
    "# reset multi-level index by level\n",
    "student_df = student_df.reset_index(level='Standard')\n",
    "print(student_df)\n",
    "\n",
    "# reset multi-level index\n",
    "student_df = student_df.reset_index()\n",
    "print(student_df)"
   ]
  },
  {
   "cell_type": "code",
   "execution_count": null,
   "id": "0d15bbe8-df7a-4370-9812-ffe81929c6e8",
   "metadata": {},
   "outputs": [],
   "source": []
  }
 ],
 "metadata": {
  "kernelspec": {
   "display_name": "Python 3 (ipykernel)",
   "language": "python",
   "name": "python3"
  },
  "language_info": {
   "codemirror_mode": {
    "name": "ipython",
    "version": 3
   },
   "file_extension": ".py",
   "mimetype": "text/x-python",
   "name": "python",
   "nbconvert_exporter": "python",
   "pygments_lexer": "ipython3",
   "version": "3.12.0"
  }
 },
 "nbformat": 4,
 "nbformat_minor": 5
}
