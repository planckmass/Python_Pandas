{
 "cells": [
  {
   "cell_type": "code",
   "execution_count": 1,
   "id": "14cdcdc7-cf6c-4b04-bb06-5503069f2d92",
   "metadata": {},
   "outputs": [
    {
     "name": "stdout",
     "output_type": "stream",
     "text": [
      "Before reset index: \n",
      "      Name  Age  Marks\n",
      "s1    Joe   20  85.10\n",
      "s2    Nat   21  77.80\n",
      "s3  Harry   19  91.54\n",
      "\n",
      "After reset index: \n",
      "   index   Name  Age  Marks\n",
      "1    s1    Joe   20  85.10\n",
      "2    s2    Nat   21  77.80\n",
      "3    s3  Harry   19  91.54\n"
     ]
    }
   ],
   "source": [
    "import pandas as pd\n",
    "\n",
    "student_dict = {'Name': ['Joe', 'Nat', 'Harry'], 'Age': [20, 21, 19], 'Marks': [85.10, 77.80, 91.54]}\n",
    "\n",
    "# create DataFrame from dict\n",
    "student_df = pd.DataFrame(student_dict, index=['s1', 's2', 's3'])\n",
    "print(\"Before reset index: \\n\", student_df)\n",
    "\n",
    "# reset index\n",
    "student_df = student_df.reset_index()\n",
    "\n",
    "# add 1 to each index\n",
    "student_df.index = student_df.index + 1\n",
    "\n",
    "print(\"\\nAfter reset index: \\n\", student_df)"
   ]
  },
  {
   "cell_type": "code",
   "execution_count": null,
   "id": "b52b44a7-9b8f-40bb-aa94-9c88cc683fda",
   "metadata": {},
   "outputs": [],
   "source": []
  }
 ],
 "metadata": {
  "kernelspec": {
   "display_name": "Python 3 (ipykernel)",
   "language": "python",
   "name": "python3"
  },
  "language_info": {
   "codemirror_mode": {
    "name": "ipython",
    "version": 3
   },
   "file_extension": ".py",
   "mimetype": "text/x-python",
   "name": "python",
   "nbconvert_exporter": "python",
   "pygments_lexer": "ipython3",
   "version": "3.12.0"
  }
 },
 "nbformat": 4,
 "nbformat_minor": 5
}
