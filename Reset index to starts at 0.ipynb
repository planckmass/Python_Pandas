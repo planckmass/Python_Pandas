{
 "cells": [
  {
   "cell_type": "code",
   "execution_count": 2,
   "id": "c488270f-e3f8-427e-bbb1-253ca060ea19",
   "metadata": {},
   "outputs": [
    {
     "name": "stdout",
     "output_type": "stream",
     "text": [
      "Original DataFrame: \n",
      "      Name   Age  Marks\n",
      "s1    Joe  20.0  85.10\n",
      "s2    Nat  21.0  77.80\n",
      "s3    NaN   NaN    NaN\n",
      "s4  Harry  19.0  91.54\n",
      "\n",
      "DataFrame after dropping N/A: \n",
      "      Name   Age  Marks\n",
      "s1    Joe  20.0  85.10\n",
      "s2    Nat  21.0  77.80\n",
      "s4  Harry  19.0  91.54\n",
      "\n",
      "DataFrame after resetting index: \n",
      "   index   Name   Age  Marks\n",
      "0    s1    Joe  20.0  85.10\n",
      "1    s2    Nat  21.0  77.80\n",
      "2    s4  Harry  19.0  91.54\n"
     ]
    }
   ],
   "source": [
    "import pandas as pd\n",
    "import numpy as np\n",
    "\n",
    "student_dict = {'Name': ['Joe', 'Nat', np.NaN, 'Harry'], 'Age': [20, 21, np.NaN, 19],\n",
    "                'Marks': [85.10, 77.80, np.NaN, 91.54]}\n",
    "\n",
    "# create DataFrame from dict\n",
    "student_df = pd.DataFrame(student_dict, index=['s1', 's2', 's3', 's4'])\n",
    "print(\"Original DataFrame: \\n\", student_df)\n",
    "\n",
    "# drop NA\n",
    "student_df = student_df.dropna()\n",
    "print(\"\\nDataFrame after dropping N/A: \\n\", student_df)\n",
    "\n",
    "# reset index\n",
    "student_df = student_df.reset_index()\n",
    "print(\"\\nDataFrame after resetting index: \\n\", student_df)"
   ]
  },
  {
   "cell_type": "code",
   "execution_count": null,
   "id": "d951c235-23ab-479d-a714-def11e4cec3c",
   "metadata": {},
   "outputs": [],
   "source": []
  }
 ],
 "metadata": {
  "kernelspec": {
   "display_name": "Python 3 (ipykernel)",
   "language": "python",
   "name": "python3"
  },
  "language_info": {
   "codemirror_mode": {
    "name": "ipython",
    "version": 3
   },
   "file_extension": ".py",
   "mimetype": "text/x-python",
   "name": "python",
   "nbconvert_exporter": "python",
   "pygments_lexer": "ipython3",
   "version": "3.12.0"
  }
 },
 "nbformat": 4,
 "nbformat_minor": 5
}
