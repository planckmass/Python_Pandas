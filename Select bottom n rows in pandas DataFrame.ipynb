{
 "cells": [
  {
   "cell_type": "code",
   "execution_count": 1,
   "id": "5f378c43-e0ea-4f66-a1ef-55f8f299053e",
   "metadata": {},
   "outputs": [
    {
     "name": "stdout",
     "output_type": "stream",
     "text": [
      "   Name  Age  Marks\n",
      "4  Jose   18   87.9\n",
      "5  Jill   19   90.0\n",
      "6  Rose   17   72.0\n"
     ]
    }
   ],
   "source": [
    "import pandas as pd\n",
    "\n",
    "student_dict = {'Name': ['Joe', 'Nat', 'Harry','Jack','Jose',\"Jill\",\"Rose\"],\n",
    "                'Age': [20, 21, 19,17,18,19,17],\n",
    "                'Marks': [85.10, 77.80, 91.54,72,87.9,90,72]}\n",
    "\n",
    "# create DataFrame from dict\n",
    "student_df = pd.DataFrame(student_dict)\n",
    "\n",
    "bottomRows = student_df.tail(3)\n",
    "print(bottomRows)"
   ]
  },
  {
   "cell_type": "code",
   "execution_count": null,
   "id": "b475c325-6a2d-44b7-aa1b-766cf77251d5",
   "metadata": {},
   "outputs": [],
   "source": []
  }
 ],
 "metadata": {
  "kernelspec": {
   "display_name": "Python 3 (ipykernel)",
   "language": "python",
   "name": "python3"
  },
  "language_info": {
   "codemirror_mode": {
    "name": "ipython",
    "version": 3
   },
   "file_extension": ".py",
   "mimetype": "text/x-python",
   "name": "python",
   "nbconvert_exporter": "python",
   "pygments_lexer": "ipython3",
   "version": "3.12.0"
  }
 },
 "nbformat": 4,
 "nbformat_minor": 5
}
