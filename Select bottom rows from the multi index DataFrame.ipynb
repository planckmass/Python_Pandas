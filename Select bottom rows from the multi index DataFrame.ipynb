{
 "cells": [
  {
   "cell_type": "code",
   "execution_count": 1,
   "id": "82cc32c8-14ba-434a-8dab-8ef8123d795a",
   "metadata": {},
   "outputs": [
    {
     "name": "stdout",
     "output_type": "stream",
     "text": [
      "                      Name      Marks\n",
      "                   Surname Percentage\n",
      "Standard   Class                     \n",
      "Standard 1 Class B     Nat      87.90\n",
      "Standard 2 Class A   Harry      70.10\n",
      "           Class B     Sam      65.48\n",
      "Standard 3 Class A    Jill      72.00\n",
      "           Class B    Jane      80.00\n"
     ]
    }
   ],
   "source": [
    "import pandas as pd\n",
    "\n",
    "index = pd.MultiIndex.from_tuples([('Standard 1', 'Class A'), ('Standard 1', 'Class B'),\n",
    "                                   ('Standard 2', 'Class A'), ('Standard 2', 'Class B'),\n",
    "                                   ('Standard 3', 'Class A'), ('Standard 3', 'Class B')],\n",
    "                                  names=['Standard', 'Class'])\n",
    "\n",
    "columns = pd.MultiIndex.from_tuples([('Name', 'Surname'),\n",
    "('Marks', 'Percentage')])\n",
    "\n",
    "# create multi-index dataframe\n",
    "student_df = pd.DataFrame([('Joe', 91.56), ('Nat', 87.90), ('Harry', 70.10), \n",
    "                           ('Sam', 65.48), (\"Jill\", 72), (\"Jane\", 80)],\n",
    "                          index=index, columns=columns)\n",
    "\n",
    "bottomRows = student_df.tail()\n",
    "print(bottomRows)"
   ]
  },
  {
   "cell_type": "code",
   "execution_count": null,
   "id": "ae696bb5-7518-441c-b82e-845dbae0497b",
   "metadata": {},
   "outputs": [],
   "source": []
  }
 ],
 "metadata": {
  "kernelspec": {
   "display_name": "Python 3 (ipykernel)",
   "language": "python",
   "name": "python3"
  },
  "language_info": {
   "codemirror_mode": {
    "name": "ipython",
    "version": 3
   },
   "file_extension": ".py",
   "mimetype": "text/x-python",
   "name": "python",
   "nbconvert_exporter": "python",
   "pygments_lexer": "ipython3",
   "version": "3.12.0"
  }
 },
 "nbformat": 4,
 "nbformat_minor": 5
}
