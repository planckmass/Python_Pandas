{
 "cells": [
  {
   "cell_type": "code",
   "execution_count": 1,
   "id": "0ff9c0ac-6402-4c46-a89f-60d79a384d59",
   "metadata": {},
   "outputs": [
    {
     "name": "stdout",
     "output_type": "stream",
     "text": [
      "                      Name      Marks\n",
      "                   Surname Percentage\n",
      "Standard   Class                     \n",
      "Standard 1 Class A     Joe      91.56\n",
      "           Class B     Nat      87.90\n",
      "Standard 2 Class A   Harry      70.10\n",
      "           Class B     Sam      65.48\n",
      "Standard 3 Class A    Jill      72.00\n"
     ]
    }
   ],
   "source": [
    "import pandas as pd\n",
    "\n",
    "index = pd.MultiIndex.from_tuples([('Standard 1', 'Class A'), ('Standard 1', 'Class B'),\n",
    "                                   ('Standard 2', 'Class A'), ('Standard 2', 'Class B'),\n",
    "                                   ('Standard 3', 'Class A'), ('Standard 3', 'Class B')],\n",
    "                                  names=['Standard', 'Class'])\n",
    "\n",
    "columns = pd.MultiIndex.from_tuples([('Name', 'Surname'),\n",
    "('Marks', 'Percentage')])\n",
    "\n",
    "# create multi-index dataframe\n",
    "student_df = pd.DataFrame([('Joe', 91.56), ('Nat', 87.90),('Harry', 70.10), \n",
    "                           ('Sam', 65.48), (\"Jill\", 72), (\"Jane\", 80)],\n",
    "                          index=index, columns=columns)\n",
    "\n",
    "topRows = student_df.head()\n",
    "print(topRows)"
   ]
  },
  {
   "cell_type": "code",
   "execution_count": null,
   "id": "e62d0442-4570-44e1-8e75-12cb3392b8c6",
   "metadata": {},
   "outputs": [],
   "source": []
  }
 ],
 "metadata": {
  "kernelspec": {
   "display_name": "Python 3 (ipykernel)",
   "language": "python",
   "name": "python3"
  },
  "language_info": {
   "codemirror_mode": {
    "name": "ipython",
    "version": 3
   },
   "file_extension": ".py",
   "mimetype": "text/x-python",
   "name": "python",
   "nbconvert_exporter": "python",
   "pygments_lexer": "ipython3",
   "version": "3.12.0"
  }
 },
 "nbformat": 4,
 "nbformat_minor": 5
}
