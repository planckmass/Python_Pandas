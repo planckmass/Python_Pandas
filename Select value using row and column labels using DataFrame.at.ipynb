{
 "cells": [
  {
   "cell_type": "code",
   "execution_count": 1,
   "id": "ac1c7afa-d545-461a-9081-ea0c4b377a67",
   "metadata": {},
   "outputs": [
    {
     "name": "stdout",
     "output_type": "stream",
     "text": [
      "19\n"
     ]
    }
   ],
   "source": [
    "import pandas as pd\n",
    "\n",
    "student_dict = {'Name': ['Joe', 'Nat', 'Harry',], 'Age': [20, 21, 19], \n",
    "                'Marks': [85.10, 77.80, 91.54]}\n",
    "\n",
    "# create DataFrame from dict\n",
    "student_df = pd.DataFrame(student_dict)\n",
    "\n",
    "value = student_df.at[2,\"Age\"]\n",
    "print(value)  # --> Output: 19"
   ]
  },
  {
   "cell_type": "code",
   "execution_count": null,
   "id": "0bb23160-4466-4c07-b0f5-f32e67786a4e",
   "metadata": {},
   "outputs": [],
   "source": []
  }
 ],
 "metadata": {
  "kernelspec": {
   "display_name": "Python 3 (ipykernel)",
   "language": "python",
   "name": "python3"
  },
  "language_info": {
   "codemirror_mode": {
    "name": "ipython",
    "version": 3
   },
   "file_extension": ".py",
   "mimetype": "text/x-python",
   "name": "python",
   "nbconvert_exporter": "python",
   "pygments_lexer": "ipython3",
   "version": "3.12.0"
  }
 },
 "nbformat": 4,
 "nbformat_minor": 5
}
