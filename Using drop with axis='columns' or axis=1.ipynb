{
 "cells": [
  {
   "cell_type": "code",
   "execution_count": 1,
   "id": "42f17d7c-49c3-41d6-b582-73443de8855e",
   "metadata": {},
   "outputs": [
    {
     "name": "stdout",
     "output_type": "stream",
     "text": [
      "Original dataframe:\n",
      "   name  age  marks\n",
      "0  Joe   20   85.1\n",
      "1  Nat   21   77.8\n",
      "After droping columns in dataframe:\n",
      "   name\n",
      "0  Joe\n",
      "1  Nat\n"
     ]
    }
   ],
   "source": [
    "import pandas as pd\n",
    "\n",
    "student_dict = {\"name\": [\"Joe\", \"Nat\"], \"age\": [20, 21], \"marks\": [85.10, 77.80]}\n",
    "\n",
    "# Create DataFrame from dict\n",
    "student_df = pd.DataFrame(student_dict)\n",
    "print(\"Original dataframe:\\n\",student_df)\n",
    "\n",
    "student_df = student_df.drop(['age', 'marks'], axis='columns')\n",
    "print(\"After droping columns in dataframe:\\n\", student_df)\n",
    "\n",
    "# alternative both produces same result\n",
    "#student_df = student_df.drop(['age', 'marks'], axis=1)\n",
    "#print(\"After droping columns in dataframe:\\n\", student_df)"
   ]
  },
  {
   "cell_type": "code",
   "execution_count": null,
   "id": "65a918c9-674b-45cb-918e-5d4512f1dece",
   "metadata": {},
   "outputs": [],
   "source": []
  }
 ],
 "metadata": {
  "kernelspec": {
   "display_name": "Python 3 (ipykernel)",
   "language": "python",
   "name": "python3"
  },
  "language_info": {
   "codemirror_mode": {
    "name": "ipython",
    "version": 3
   },
   "file_extension": ".py",
   "mimetype": "text/x-python",
   "name": "python",
   "nbconvert_exporter": "python",
   "pygments_lexer": "ipython3",
   "version": "3.12.0"
  }
 },
 "nbformat": 4,
 "nbformat_minor": 5
}
